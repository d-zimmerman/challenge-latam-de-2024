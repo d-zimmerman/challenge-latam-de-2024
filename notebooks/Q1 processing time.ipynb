{
 "cells": [
  {
   "cell_type": "markdown",
   "metadata": {},
   "source": [
    "This notebook was used to check if there was a significant difference between a pandas or a polar approach for Q1."
   ]
  },
  {
   "cell_type": "code",
   "execution_count": 1,
   "metadata": {},
   "outputs": [],
   "source": [
    "\n",
    "from pathlib import Path\n",
    "import sys\n",
    "from pathlib import Path\n",
    "import os\n",
    "\n",
    "# Add the app directory to the Python path\n",
    "sys.path.append(str(Path().resolve().parent / \"app\"))\n",
    "\n",
    "PROJECT_ROOT = Path(os.getcwd()).parent\n",
    "\n",
    "DATA_DIR = PROJECT_ROOT / \"data\"\n",
    "FILENAME = \"farmers-protest-tweets-2021-2-4.json\""
   ]
  },
  {
   "cell_type": "code",
   "execution_count": 6,
   "metadata": {},
   "outputs": [
    {
     "name": "stderr",
     "output_type": "stream",
     "text": [
      "c:\\Users\\dzimm\\AppData\\Local\\pypoetry\\Cache\\virtualenvs\\de_challenge_-_2024-EAjXOZwu-py3.11\\Lib\\site-packages\\dask\\dataframe\\__init__.py:42: FutureWarning: \n",
      "Dask dataframe query planning is disabled because dask-expr is not installed.\n",
      "\n",
      "You can install it with `pip install dask[dataframe]` or `conda install dask`.\n",
      "This will raise in a future version.\n",
      "\n",
      "  warnings.warn(msg, FutureWarning)\n"
     ]
    }
   ],
   "source": [
    "from typing import List, Tuple\n",
    "from datetime import datetime\n",
    "import polars as pl\n",
    "import pandas as pd\n",
    "import time\n",
    "\n",
    "from extract import read_json_file\n"
   ]
  },
  {
   "cell_type": "code",
   "execution_count": 16,
   "metadata": {},
   "outputs": [
    {
     "name": "stderr",
     "output_type": "stream",
     "text": [
      "C:\\Users\\dzimm\\AppData\\Local\\Temp\\ipykernel_1760\\414814554.py:19: DeprecationWarning: `pl.count()` is deprecated. Please use `pl.len()` instead.\n",
      "  pl.count().alias(\"tweet_count\")\n",
      "C:\\Users\\dzimm\\AppData\\Local\\Temp\\ipykernel_1760\\414814554.py:36: DeprecationWarning: `pl.count()` is deprecated. Please use `pl.len()` instead.\n",
      "  pl.count().alias(\"total_tweets\")\n"
     ]
    },
    {
     "name": "stdout",
     "output_type": "stream",
     "text": [
      "Polars Duration: 3.2676 seconds\n",
      "Pandas Duration: 3.4433 seconds\n"
     ]
    }
   ],
   "source": [
    "def polar_solution(file_path: str) -> List[Tuple[datetime.date, str]]:\n",
    "    \n",
    "    data = read_json_file(file_path)\n",
    "    \n",
    "    # Create a Polars DataFrame from the processed data\n",
    "    tweets_df: pl.DataFrame = pl.DataFrame(\n",
    "        data, schema=[\"date\", \"username\"], orient=\"row\"\n",
    "    )\n",
    "\n",
    "    # Convert the 'date' column to datetime format\n",
    "    tweets_df = tweets_df.with_columns([\n",
    "        pl.col(\"date\").str.strptime(\n",
    "            pl.Datetime, format=\"%Y-%m-%dT%H:%M:%S%z\", strict=False\n",
    "        )\n",
    "    ])\n",
    "\n",
    "    # Group by date and username, counting the number of tweets per user each day\n",
    "    tweets_per_day = tweets_df.group_by([pl.col(\"date\").dt.date(), \"username\"]).agg(\n",
    "        pl.count().alias(\"tweet_count\")\n",
    "    )\n",
    "\n",
    "    # Find the user with the most tweets per day\n",
    "    top_user_per_day = (\n",
    "        tweets_per_day\n",
    "        .sort(\n",
    "            \"tweet_count\", descending=True\n",
    "        )\n",
    "        .group_by(\"date\")\n",
    "        .agg(\n",
    "            pl.first(\"username\").alias(\"top_user\")\n",
    "        )\n",
    "    )\n",
    "\n",
    "    # Count the total number of tweets per day\n",
    "    tweets_by_day = tweets_df.group_by(tweets_df[\"date\"].dt.date()).agg(\n",
    "        pl.count().alias(\"total_tweets\")\n",
    "    )\n",
    "\n",
    "    # Join the total tweets with the top user by day\n",
    "    top_10_dates = tweets_by_day.join(top_user_per_day, on=\"date\")\n",
    "\n",
    "    # Sort by total number of tweets per day and select the top 10 dates\n",
    "    top_10_dates = top_10_dates.sort(\"total_tweets\", descending=True).head(10)\n",
    "\n",
    "    return top_10_dates\n",
    "\n",
    "\n",
    "def pandas_solution(file_path: str) -> List[Tuple[datetime.date, str]]:\n",
    "    # Cargar el JSON en un DataFrame de Pandas\n",
    "    data = read_json_file(file_path)\n",
    "    columns = ['date', 'username']\n",
    "    df = pd.DataFrame(data, columns=columns)\n",
    "\n",
    "    # Convertir la columna de fecha en formato datetime para fácil manipulación\n",
    "    df['date'] = pd.to_datetime(df['date'])\n",
    "\n",
    "    # Agrupar por fecha y usuario, y contar el número de tweets por cada usuario en cada día\n",
    "    tweets_per_day = df.groupby([df['date'].dt.date, 'username']).size().reset_index(name='tweet_count')\n",
    "\n",
    "    # Encontrar el usuario con más tweets por día\n",
    "    top_user_per_day = tweets_per_day.loc[tweets_per_day.groupby('date')['tweet_count'].idxmax()]\n",
    "\n",
    "    # Contar el número total de tweets por día\n",
    "    tweets_by_day = df.groupby(df['date'].dt.date).size().reset_index(name='total_tweets')\n",
    "\n",
    "    # Unir el total de tweets con el usuario que más tweets tiene por cada día\n",
    "    top_10_dates = pd.merge(tweets_by_day, top_user_per_day, on='date')\n",
    "\n",
    "    # Ordenar por el número de tweets en cada día y obtener el top 10\n",
    "    top_10_dates = top_10_dates.sort_values(by='total_tweets', ascending=False).head(10)\n",
    "\n",
    "    return top_10_dates\n",
    "\n",
    "# File path\n",
    "file_path = DATA_DIR / FILENAME\n",
    "\n",
    "# Measure the time for original solution\n",
    "start_time = time.time()\n",
    "polars_data = polar_solution(file_path)\n",
    "polars_duration = time.time() - start_time\n",
    "\n",
    "# Measure the time for optimized solution\n",
    "start_time = time.time()\n",
    "pandas_data = pandas_solution(file_path)\n",
    "pandas_duration = time.time() - start_time\n",
    "\n",
    "print(f\"Polars Duration: {polars_duration:.4f} seconds\")\n",
    "print(f\"Pandas Duration: {pandas_duration:.4f} seconds\")"
   ]
  },
  {
   "cell_type": "markdown",
   "metadata": {},
   "source": [
    "We can see there is no big difference between these two approaches. We will keep the Polars approach just to follow the best approach."
   ]
  },
  {
   "cell_type": "markdown",
   "metadata": {},
   "source": [
    "This notebook was used to check if there was a significant difference between the most common solution with the `json` library and the `orjson` library."
   ]
  }
 ],
 "metadata": {
  "kernelspec": {
   "display_name": "de_challenge_-_2024-EAjXOZwu-py3.11",
   "language": "python",
   "name": "python3"
  },
  "language_info": {
   "codemirror_mode": {
    "name": "ipython",
    "version": 3
   },
   "file_extension": ".py",
   "mimetype": "text/x-python",
   "name": "python",
   "nbconvert_exporter": "python",
   "pygments_lexer": "ipython3",
   "version": "3.11.4"
  }
 },
 "nbformat": 4,
 "nbformat_minor": 2
}
