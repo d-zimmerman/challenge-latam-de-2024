{
 "cells": [
  {
   "cell_type": "markdown",
   "metadata": {},
   "source": [
    "This notebook was used to check if there was a significant difference between the most common solution with the `json` library and the `orjson` library."
   ]
  },
  {
   "cell_type": "code",
   "execution_count": 6,
   "metadata": {},
   "outputs": [
    {
     "name": "stdout",
     "output_type": "stream",
     "text": [
      "Original Duration: 5.0383 seconds\n",
      "Optimized Duration: 3.1999 seconds\n"
     ]
    }
   ],
   "source": [
    "import json\n",
    "import orjson\n",
    "import time\n",
    "from pathlib import Path\n",
    "import os\n",
    "\n",
    "PROJECT_ROOT = Path(os.getcwd()).parent\n",
    "\n",
    "DATA_DIR = PROJECT_ROOT / \"data\"\n",
    "FILENAME = \"farmers-protest-tweets-2021-2-4.json\"\n",
    "\n",
    "# Original solution using json.loads\n",
    "def original_solution(file_path):\n",
    "    with open(file_path, 'r') as json_file:\n",
    "        data = [\n",
    "            (item['date'], item['user']['username'])\n",
    "            for line in json_file\n",
    "            for item in [json.loads(line.strip())]\n",
    "            if 'date' in item and 'user' in item and 'username' in item['user']\n",
    "        ]\n",
    "    return data\n",
    "\n",
    "# Optimized solution using orjson\n",
    "def optimized_solution(file_path):\n",
    "    data = []\n",
    "    with open(file_path, 'r') as json_file:\n",
    "        for line in json_file:\n",
    "            try:\n",
    "                item = orjson.loads(line)\n",
    "                if 'date' in item and 'user' in item and 'username' in item['user']:\n",
    "                    data.append((item['date'], item['user']['username']))\n",
    "            except orjson.JSONDecodeError:\n",
    "                continue\n",
    "    return data\n",
    "\n",
    "# File path\n",
    "file_path = DATA_DIR / FILENAME\n",
    "\n",
    "# Measure the time for original solution\n",
    "start_time = time.time()\n",
    "original_data = original_solution(file_path)\n",
    "original_duration = time.time() - start_time\n",
    "\n",
    "# Measure the time for optimized solution\n",
    "start_time = time.time()\n",
    "optimized_data = optimized_solution(file_path)\n",
    "optimized_duration = time.time() - start_time\n",
    "\n",
    "print(f\"Original Duration: {original_duration:.4f} seconds\")\n",
    "print(f\"Optimized Duration: {optimized_duration:.4f} seconds\")"
   ]
  },
  {
   "cell_type": "markdown",
   "metadata": {},
   "source": [
    "We can see there is 37% reduction of time. We go with the optimized version."
   ]
  }
 ],
 "metadata": {
  "kernelspec": {
   "display_name": "de_challenge_-_2024-EAjXOZwu-py3.11",
   "language": "python",
   "name": "python3"
  },
  "language_info": {
   "codemirror_mode": {
    "name": "ipython",
    "version": 3
   },
   "file_extension": ".py",
   "mimetype": "text/x-python",
   "name": "python",
   "nbconvert_exporter": "python",
   "pygments_lexer": "ipython3",
   "version": "3.11.4"
  }
 },
 "nbformat": 4,
 "nbformat_minor": 2
}
