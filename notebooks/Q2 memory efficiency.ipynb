{
 "cells": [
  {
   "cell_type": "markdown",
   "metadata": {},
   "source": [
    "This notebook was used to check if there is a significant difference between different approaches aiming for a better memory efficiency."
   ]
  },
  {
   "cell_type": "code",
   "execution_count": 1,
   "metadata": {},
   "outputs": [],
   "source": [
    "\n",
    "from pathlib import Path\n",
    "import sys\n",
    "from pathlib import Path\n",
    "import os\n",
    "\n",
    "# Add the app directory to the Python path\n",
    "sys.path.append(str(Path().resolve().parent.parent / \"OPTION - LATAM\"))\n",
    "\n",
    "PROJECT_ROOT = Path(os.getcwd()).parent\n",
    "\n",
    "DATA_DIR = PROJECT_ROOT / \"data\"\n",
    "FILENAME = \"farmers-protest-tweets-2021-2-4.json\""
   ]
  },
  {
   "cell_type": "code",
   "execution_count": 2,
   "metadata": {},
   "outputs": [
    {
     "data": {
      "text/plain": [
       "<app.logger.Logger at 0x206931ebd10>"
      ]
     },
     "execution_count": 2,
     "metadata": {},
     "output_type": "execute_result"
    }
   ],
   "source": [
    "import emoji\n",
    "import heapq\n",
    "\n",
    "import json\n",
    "import time\n",
    "from collections import Counter\n",
    "\n",
    "from app.utils import memory_profile_logging_wrapper\n",
    "from app.logger import Logger\n",
    "Logger(log_dir=\".\", log_file=\"log\")\n",
    "\n"
   ]
  },
  {
   "cell_type": "code",
   "execution_count": 15,
   "metadata": {},
   "outputs": [
    {
     "name": "stdout",
     "output_type": "stream",
     "text": [
      "ERROR: Could not find file C:\\Users\\dzimm\\AppData\\Local\\Temp\\ipykernel_15728\\2644555730.py\n",
      "[('🙏', 5049), ('😂', 3072), ('🚜', 2972), ('🌾', 2182), ('🇮🇳', 2086), ('🤣', 1668), ('✊', 1651), ('❤️', 1382), ('🙏🏻', 1317), ('💚', 1040)]\n",
      "ERROR: Could not find file C:\\Users\\dzimm\\AppData\\Local\\Temp\\ipykernel_15728\\2644555730.py\n",
      "[('🙏', 7286), ('😂', 3072), ('️', 3061), ('🚜', 2972), ('✊', 2411), ('🌾', 2363), ('🏻', 2080), ('❤', 1779), ('🤣', 1668), ('🏽', 1218)]\n",
      "ERROR: Could not find file C:\\Users\\dzimm\\AppData\\Local\\Temp\\ipykernel_15728\\2644555730.py\n",
      "[('🙏', 7286), ('😂', 3072), ('️', 3061), ('🚜', 2972), ('✊', 2411), ('🌾', 2363), ('🏻', 2080), ('❤', 1779), ('🤣', 1668), ('🏽', 1218)]\n"
     ]
    }
   ],
   "source": [
    "@memory_profile_logging_wrapper\n",
    "def emoji_first_approach(file_path: str):\n",
    "    emoji_counter = Counter()\n",
    "    with open(file_path, 'r') as file:\n",
    "        for line in file:\n",
    "            data = json.loads(line)\n",
    "            if 'content' in data:\n",
    "                content = data['content']\n",
    "                # Extraer emojis de cada mensaje\n",
    "                emoji_counter.update([value.chars for value in emoji.analyze(content)])\n",
    "    # Top 10 emojis\n",
    "    top_10_emojis = emoji_counter.most_common(10)\n",
    "    return top_10_emojis\n",
    "\n",
    "@memory_profile_logging_wrapper\n",
    "def emoji_second_approach(filepath):\n",
    "    emoji_counts = {}\n",
    "\n",
    "    # Procesar el archivo línea por línea\n",
    "    with open(filepath, 'r', encoding='utf-8') as file:\n",
    "        for line in file:\n",
    "            tweet = json.loads(line)\n",
    "            content = tweet.get('content', '')\n",
    "\n",
    "            # Filtrar solo los emojis usando emoji librería\n",
    "            for char in content:\n",
    "                if emoji.purely_emoji(char):\n",
    "                    if char in emoji_counts:\n",
    "                        emoji_counts[char] += 1\n",
    "                    else:\n",
    "                        emoji_counts[char] = 1\n",
    "\n",
    "    # Obtener los top 10 emojis más usados\n",
    "    top_10_emojis = sorted(emoji_counts.items(), key=lambda x: x[1], reverse=True)[:10]\n",
    "    return top_10_emojis\n",
    "@memory_profile_logging_wrapper\n",
    "def emoji_third_approach(filepath):\n",
    "    emoji_counts = {}\n",
    "\n",
    "    # Procesar el archivo línea por línea\n",
    "    with open(filepath, 'r', encoding='utf-8') as file:\n",
    "        for line in file:\n",
    "            tweet = json.loads(line)\n",
    "            content = tweet.get('content', '')\n",
    "\n",
    "            # Filtrar solo los emojis usando emoji librería\n",
    "            for char in content:\n",
    "                if emoji.purely_emoji(char):\n",
    "                    if char in emoji_counts:\n",
    "                        emoji_counts[char] += 1\n",
    "                    else:\n",
    "                        emoji_counts[char] = 1\n",
    "\n",
    "    # Obtener los top 10 emojis más usados\n",
    "    top_10_emojis = heapq.nlargest(10, emoji_counts.items(), key=lambda x: x[1])\n",
    "    return top_10_emojis\n",
    "# File path\n",
    "file_path = DATA_DIR / FILENAME\n",
    "\n",
    "# Measure the time for original solution\n",
    "start_time = time.time()\n",
    "first_data = emoji_first_approach(file_path)\n",
    "first_duration = time.time() - start_time\n",
    "print(first_data)\n",
    "\n",
    "# Measure the time for optimized solution\n",
    "start_time = time.time()\n",
    "second_data = emoji_second_approach(file_path)\n",
    "second_duration = time.time() - start_time\n",
    "print(second_data)\n",
    "\n",
    "# Measure the time for optimized solution\n",
    "start_time = time.time()\n",
    "third_data = emoji_third_approach(file_path)\n",
    "third_duration = time.time() - start_time\n",
    "print(third_data)\n"
   ]
  },
  {
   "cell_type": "markdown",
   "metadata": {},
   "source": [
    "We can see that the two last solutions have some undefined or empty emojis in the list. We will consider this as a erroneous approach. To solve this we will use a fixed list of emojis instead of using the emojis en the `emoji` library. \n",
    "\n",
    "We don't have full control of that library and the output of its methods are not consistent. As I don't know that library and because of the erratic results, I prefer not to use it.\n",
    "\n",
    "We will use the `heapq` library for the sort and find operation."
   ]
  },
  {
   "cell_type": "code",
   "execution_count": 3,
   "metadata": {},
   "outputs": [
    {
     "name": "stderr",
     "output_type": "stream",
     "text": [
      "117407it [00:43, 2714.90it/s]"
     ]
    },
    {
     "name": "stdout",
     "output_type": "stream",
     "text": [
      "[('#', 331643), ('2', 13864), ('1', 12475), ('4', 11934), ('3', 10996), ('5', 10199), ('7', 9993), ('6', 9981), ('8', 9781), ('9', 9765)]\n"
     ]
    },
    {
     "name": "stderr",
     "output_type": "stream",
     "text": [
      "\n"
     ]
    }
   ],
   "source": [
    "import heapq\n",
    "import json\n",
    "from collections import defaultdict\n",
    "from typing import List, Tuple\n",
    "from app.constants import EMOJI_PATTERN\n",
    "\n",
    "from tqdm import tqdm\n",
    "\n",
    "# @memory_profile_logging_wrapper\n",
    "def q2_memory(file_path: str) -> List[Tuple[str, int]]:\n",
    "    \"\"\"Answer question 2 efficiently in memory.\n",
    "\n",
    "        I use the `emoji` library to make things simpler.\n",
    "        By doing so we leave it up to the library to keep\n",
    "        the list of existing emojis up to date (\n",
    "        thus reducing complexity and maintenance on our side).\n",
    "        The downside of this is that we have no control over\n",
    "        the implementation of this library and the processing\n",
    "        may not be thinking about memory efficiency.\n",
    "\n",
    "        Despite this, I consider that for this particular application,\n",
    "        after some tests, this library fits very well for\n",
    "        the usage scenario. The simplified emoji search\n",
    "        implies that this library is an excellent solution.\n",
    "\n",
    "    Parameters\n",
    "    ----------\n",
    "    file_path : str\n",
    "        Path of the json file to be loaded\n",
    "\n",
    "    Returns\n",
    "    -------\n",
    "    List[Tuple[datetime.date, str]]\n",
    "        List of the 10 most used emojis and\n",
    "        the number of times they had been used.\n",
    "    \"\"\"\n",
    "\n",
    "    # Create regex pattern\n",
    "    # We include every emoji with an OR ('|') operator\n",
    "    emoji_counter = defaultdict(int)\n",
    "\n",
    "    _break = False\n",
    "    with open(file_path, 'r', encoding=\"utf-8\") as file:\n",
    "        for line in tqdm(file):\n",
    "            try:\n",
    "                data = json.loads(line)\n",
    "            except json.JSONDecodeError:\n",
    "                continue\n",
    "\n",
    "            if 'content' not in data:\n",
    "                continue\n",
    "            # Extract all emojis from tweet and update dict with count\n",
    "            for match in EMOJI_PATTERN.findall(data[\"content\"]):\n",
    "                if match:  # Only count non-None matches\n",
    "                    emoji_counter[match] += 1\n",
    "\n",
    "    # Top 10 emojis\n",
    "    top_10_emojis = heapq.nlargest(10, emoji_counter.items(), key=lambda x: x[1])\n",
    "    return top_10_emojis\n",
    "file_path = DATA_DIR / FILENAME\n",
    "start_time = time.time()\n",
    "third_data = q2_memory(file_path)\n",
    "third_duration = time.time() - start_time\n",
    "print(third_data)\n"
   ]
  }
 ],
 "metadata": {
  "kernelspec": {
   "display_name": "de_challenge_-_2024-EAjXOZwu-py3.11",
   "language": "python",
   "name": "python3"
  },
  "language_info": {
   "codemirror_mode": {
    "name": "ipython",
    "version": 3
   },
   "file_extension": ".py",
   "mimetype": "text/x-python",
   "name": "python",
   "nbconvert_exporter": "python",
   "pygments_lexer": "ipython3",
   "version": "3.11.4"
  }
 },
 "nbformat": 4,
 "nbformat_minor": 2
}
